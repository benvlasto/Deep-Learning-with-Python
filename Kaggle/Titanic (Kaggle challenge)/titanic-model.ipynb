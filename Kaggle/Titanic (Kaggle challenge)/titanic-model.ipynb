{
 "cells": [
  {
   "cell_type": "code",
   "execution_count": 4,
   "metadata": {},
   "outputs": [],
   "source": [
    "import pandas as pd\n",
    "import numpy as np\n",
    "\n",
    "# Make numpy values easier to read.\n",
    "np.set_printoptions(precision=3, suppress=True)\n",
    "\n",
    "import tensorflow as tf\n",
    "from tensorflow.keras import layers"
   ]
  },
  {
   "cell_type": "code",
   "execution_count": 60,
   "metadata": {},
   "outputs": [
    {
     "data": {
      "text/plain": [
       "PassengerId      0\n",
       "Survived         0\n",
       "Pclass           0\n",
       "Name             0\n",
       "Sex              0\n",
       "Age            177\n",
       "SibSp            0\n",
       "Parch            0\n",
       "Ticket           0\n",
       "Fare             0\n",
       "Cabin          687\n",
       "Embarked         2\n",
       "dtype: int64"
      ]
     },
     "execution_count": 60,
     "metadata": {},
     "output_type": "execute_result"
    }
   ],
   "source": [
    "train = pd.read_csv(\"train.csv\")\n",
    "train.isnull().sum()"
   ]
  },
  {
   "cell_type": "code",
   "execution_count": 55,
   "metadata": {},
   "outputs": [
    {
     "data": {
      "text/plain": [
       "Pclass        0\n",
       "Sex           0\n",
       "Age         177\n",
       "SibSp         0\n",
       "Parch         0\n",
       "Fare          0\n",
       "Embarked      2\n",
       "dtype: int64"
      ]
     },
     "execution_count": 55,
     "metadata": {},
     "output_type": "execute_result"
    }
   ],
   "source": [
    "# def preprocess_data():\n",
    "\n",
    "train = pd.read_csv(\"train.csv\")\n",
    "train.shape\n",
    "\n",
    "\n",
    "# Remove data that doesn't correspond to survival rate.\n",
    "train = train.drop(\"PassengerId\", axis=1)\n",
    "train = train.drop(\"Name\", axis=1)\n",
    "train = train.drop(\"Ticket\", axis=1)\n",
    "train = train.drop(\"Cabin\", axis=1)\n",
    "\n",
    "age = train['Age']\n",
    "age = tf.convert_to_tensor(age)\n",
    "\n",
    "labels = train.pop('Survived')\n",
    "\n",
    "\"\"\"Pclass_vec = tf.constant(training_df[\"Pclass\"])\n",
    "Sex_vec = tf.Variable(training_df['Sex'])\n",
    "Age_vec = tf.Variable(training_df['Age'])\n",
    "SibSp_vec = tf.Variable(training_df['SibSp'])\n",
    "Parch_vec = tf.Variable(training_df['Parch'])\n",
    "Fare_vec = tf.Variable(training_df['Fare'])\n",
    "#Embarked_vec = tf.Variable(training_df['Embarked'])\"\"\"\n",
    "\n",
    "# training_data = tf.convert_to_tensor(training_data)\n",
    "\n",
    "# Convert male -> 0 and female -> 1\n",
    "# for passenger in \n"
   ]
  },
  {
   "cell_type": "code",
   "execution_count": null,
   "metadata": {},
   "outputs": [],
   "source": [
    "model = keras.Sequential([\n",
    "    layers.Dense(4, activation=\"relu\"),\n",
    "    layers.Dense(4, activation=\"relu\"),\n",
    "    layers.Dense(1, activation=\"sigmoid\")\n",
    "])"
   ]
  }
 ],
 "metadata": {
  "kernelspec": {
   "display_name": ".venv",
   "language": "python",
   "name": "python3"
  },
  "language_info": {
   "codemirror_mode": {
    "name": "ipython",
    "version": 3
   },
   "file_extension": ".py",
   "mimetype": "text/x-python",
   "name": "python",
   "nbconvert_exporter": "python",
   "pygments_lexer": "ipython3",
   "version": "3.12.3"
  }
 },
 "nbformat": 4,
 "nbformat_minor": 2
}
