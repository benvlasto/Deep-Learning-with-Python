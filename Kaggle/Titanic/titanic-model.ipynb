{
 "cells": [
  {
   "cell_type": "markdown",
   "metadata": {},
   "source": [
    "Please note that the file libdevice.10.bc is only in the Titanic folder as a workaround to a bug. The file is not automatically found at its proper location (/usr/lib/cuda/nvvm/libdevice/libdevice.10.bc) so it is placed here instead."
   ]
  },
  {
   "cell_type": "code",
   "execution_count": 140,
   "metadata": {},
   "outputs": [],
   "source": [
    "import pandas as pd\n",
    "import numpy as np\n",
    "import matplotlib.pyplot as plt\n",
    "import tensorflow as tf\n",
    "from tensorflow import keras\n",
    "from tensorflow.keras import layers"
   ]
  },
  {
   "cell_type": "code",
   "execution_count": 141,
   "metadata": {},
   "outputs": [
    {
     "data": {
      "text/html": [
       "<div>\n",
       "<style scoped>\n",
       "    .dataframe tbody tr th:only-of-type {\n",
       "        vertical-align: middle;\n",
       "    }\n",
       "\n",
       "    .dataframe tbody tr th {\n",
       "        vertical-align: top;\n",
       "    }\n",
       "\n",
       "    .dataframe thead th {\n",
       "        text-align: right;\n",
       "    }\n",
       "</style>\n",
       "<table border=\"1\" class=\"dataframe\">\n",
       "  <thead>\n",
       "    <tr style=\"text-align: right;\">\n",
       "      <th></th>\n",
       "      <th>PassengerId</th>\n",
       "      <th>Survived</th>\n",
       "      <th>Pclass</th>\n",
       "      <th>Name</th>\n",
       "      <th>Sex</th>\n",
       "      <th>Age</th>\n",
       "      <th>SibSp</th>\n",
       "      <th>Parch</th>\n",
       "      <th>Ticket</th>\n",
       "      <th>Fare</th>\n",
       "      <th>Cabin</th>\n",
       "      <th>Embarked</th>\n",
       "    </tr>\n",
       "  </thead>\n",
       "  <tbody>\n",
       "    <tr>\n",
       "      <th>286</th>\n",
       "      <td>287</td>\n",
       "      <td>1</td>\n",
       "      <td>3</td>\n",
       "      <td>de Mulder, Mr. Theodore</td>\n",
       "      <td>male</td>\n",
       "      <td>30.0</td>\n",
       "      <td>0</td>\n",
       "      <td>0</td>\n",
       "      <td>345774</td>\n",
       "      <td>9.5000</td>\n",
       "      <td>NaN</td>\n",
       "      <td>S</td>\n",
       "    </tr>\n",
       "    <tr>\n",
       "      <th>501</th>\n",
       "      <td>502</td>\n",
       "      <td>0</td>\n",
       "      <td>3</td>\n",
       "      <td>Canavan, Miss. Mary</td>\n",
       "      <td>female</td>\n",
       "      <td>21.0</td>\n",
       "      <td>0</td>\n",
       "      <td>0</td>\n",
       "      <td>364846</td>\n",
       "      <td>7.7500</td>\n",
       "      <td>NaN</td>\n",
       "      <td>Q</td>\n",
       "    </tr>\n",
       "    <tr>\n",
       "      <th>249</th>\n",
       "      <td>250</td>\n",
       "      <td>0</td>\n",
       "      <td>2</td>\n",
       "      <td>Carter, Rev. Ernest Courtenay</td>\n",
       "      <td>male</td>\n",
       "      <td>54.0</td>\n",
       "      <td>1</td>\n",
       "      <td>0</td>\n",
       "      <td>244252</td>\n",
       "      <td>26.0000</td>\n",
       "      <td>NaN</td>\n",
       "      <td>S</td>\n",
       "    </tr>\n",
       "    <tr>\n",
       "      <th>259</th>\n",
       "      <td>260</td>\n",
       "      <td>1</td>\n",
       "      <td>2</td>\n",
       "      <td>Parrish, Mrs. (Lutie Davis)</td>\n",
       "      <td>female</td>\n",
       "      <td>50.0</td>\n",
       "      <td>0</td>\n",
       "      <td>1</td>\n",
       "      <td>230433</td>\n",
       "      <td>26.0000</td>\n",
       "      <td>NaN</td>\n",
       "      <td>S</td>\n",
       "    </tr>\n",
       "    <tr>\n",
       "      <th>384</th>\n",
       "      <td>385</td>\n",
       "      <td>0</td>\n",
       "      <td>3</td>\n",
       "      <td>Plotcharsky, Mr. Vasil</td>\n",
       "      <td>male</td>\n",
       "      <td>NaN</td>\n",
       "      <td>0</td>\n",
       "      <td>0</td>\n",
       "      <td>349227</td>\n",
       "      <td>7.8958</td>\n",
       "      <td>NaN</td>\n",
       "      <td>S</td>\n",
       "    </tr>\n",
       "  </tbody>\n",
       "</table>\n",
       "</div>"
      ],
      "text/plain": [
       "     PassengerId  Survived  Pclass                           Name     Sex  \\\n",
       "286          287         1       3        de Mulder, Mr. Theodore    male   \n",
       "501          502         0       3            Canavan, Miss. Mary  female   \n",
       "249          250         0       2  Carter, Rev. Ernest Courtenay    male   \n",
       "259          260         1       2    Parrish, Mrs. (Lutie Davis)  female   \n",
       "384          385         0       3         Plotcharsky, Mr. Vasil    male   \n",
       "\n",
       "      Age  SibSp  Parch  Ticket     Fare Cabin Embarked  \n",
       "286  30.0      0      0  345774   9.5000   NaN        S  \n",
       "501  21.0      0      0  364846   7.7500   NaN        Q  \n",
       "249  54.0      1      0  244252  26.0000   NaN        S  \n",
       "259  50.0      0      1  230433  26.0000   NaN        S  \n",
       "384   NaN      0      0  349227   7.8958   NaN        S  "
      ]
     },
     "execution_count": 141,
     "metadata": {},
     "output_type": "execute_result"
    }
   ],
   "source": [
    "train = pd.read_csv(\"train.csv\")\n",
    "train = train.sample(frac=1)\n",
    "train.head()"
   ]
  },
  {
   "cell_type": "code",
   "execution_count": 142,
   "metadata": {},
   "outputs": [
    {
     "data": {
      "text/plain": [
       "Embarked\n",
       "S    644\n",
       "C    168\n",
       "Q     77\n",
       "Name: count, dtype: int64"
      ]
     },
     "execution_count": 142,
     "metadata": {},
     "output_type": "execute_result"
    }
   ],
   "source": [
    "train[\"Embarked\"].value_counts()"
   ]
  },
  {
   "cell_type": "code",
   "execution_count": 143,
   "metadata": {},
   "outputs": [],
   "source": [
    "def normalise_age_and_fare(df: pd.DataFrame) -> pd.DataFrame: # Takes as argument the training dataframe and returns the same dataframe with the Age and Fare columns normalised and NaN entries filled.\n",
    "    \n",
    "    # Normalise the Age and Fare columns\n",
    "    df.Age = (df.Age - df.Age.mean()) / df.Age.std()\n",
    "    df.Fare = (df.Fare - df.Fare.mean()) / df.Fare.std()\n",
    "    \n",
    "    # Replace null age values with a random number sampled from the uniform distribution over [-1, +1] (this is mean +/- std of the ages)\n",
    "    null_ages = np.isnan(df.Age)\n",
    "    null_ages_count = len(null_ages)\n",
    "    random_ages = np.random.random_sample(null_ages_count)\n",
    "    random_ages = (random_ages - 0.5) * 2\n",
    "    df.Age[null_ages] = random_ages\n",
    "    \n",
    "    return df"
   ]
  },
  {
   "cell_type": "code",
   "execution_count": 144,
   "metadata": {},
   "outputs": [],
   "source": [
    "def preprocess_df(df: pd.DataFrame): # For training set, returns a cleaned training dataset as well as labels in their own dataframe. For test set, returns only cleaned dataset.\n",
    "        \n",
    "    # Map female -> 0 and male -> 1\n",
    "    df[\"Sex\"] = df[\"Sex\"].map({\"female\": 0,\n",
    "                               \"male\": 1})\n",
    "\n",
    "    # In \"Embarked\" column there are {S:644, C:168, Q:77, NaN:2} so we map S -> 0, C -> 1, Q -> 2, NaN -> 0\n",
    "    embarked_map = {\"S\": 0,\n",
    "                    \"C\": 1,\n",
    "                    \"Q\": 2}\n",
    "\n",
    "    df[\"Embarked\"] = df[\"Embarked\"].map(embarked_map)\n",
    "    df.Embarked = df.Embarked.fillna(0)\n",
    "\n",
    "    # Remove categories that don't correspond to survival rate.\n",
    "    df = df.drop(\"PassengerId\", axis=1)\n",
    "    df = df.drop(\"Name\", axis=1)\n",
    "    df = df.drop(\"Ticket\", axis=1)\n",
    "    df = df.drop(\"Cabin\", axis=1)\n",
    "    \n",
    "    df = normalise_age_and_fare(df)\n",
    "\n",
    "    # If this is training set, shuffle everything and put labels in their own dataframe. If this is test set without labels, skip this step.\n",
    "    if \"Survived\" in df:\n",
    "        df = df.sample(frac=1) # Shuffles the samples for k-fold cross validation\n",
    "        labels = df.pop(\"Survived\")\n",
    "        train = df\n",
    "        return train, labels\n",
    "    \n",
    "    return df"
   ]
  },
  {
   "cell_type": "code",
   "execution_count": 145,
   "metadata": {},
   "outputs": [
    {
     "name": "stdout",
     "output_type": "stream",
     "text": [
      "     Pclass  Sex       Age  SibSp  Parch      Fare  Embarked\n",
      "214       3    1 -0.935510      1      0 -0.492101       2.0\n",
      "782       1    1 -0.048127      0      0 -0.044356       0.0\n",
      "93        3    1 -0.254646      1      2 -0.234019       0.0\n",
      "797       3    0  0.089552      0      0 -0.473320       0.0\n",
      "143       3    1 -0.736524      0      0 -0.512225       2.0 214    0\n",
      "782    0\n",
      "93     0\n",
      "797    1\n",
      "143    0\n",
      "Name: Survived, dtype: int64\n"
     ]
    },
    {
     "name": "stderr",
     "output_type": "stream",
     "text": [
      "/tmp/ipykernel_917/275173478.py:12: FutureWarning: ChainedAssignmentError: behaviour will change in pandas 3.0!\n",
      "You are setting values through chained assignment. Currently this works in certain cases, but when using Copy-on-Write (which will become the default behaviour in pandas 3.0) this will never work to update the original DataFrame or Series, because the intermediate object on which we are setting values will behave as a copy.\n",
      "A typical example is when you are setting values in a column of a DataFrame, like:\n",
      "\n",
      "df[\"col\"][row_indexer] = value\n",
      "\n",
      "Use `df.loc[row_indexer, \"col\"] = values` instead, to perform the assignment in a single step and ensure this keeps updating the original `df`.\n",
      "\n",
      "See the caveats in the documentation: https://pandas.pydata.org/pandas-docs/stable/user_guide/indexing.html#returning-a-view-versus-a-copy\n",
      "\n",
      "  df.Age[null_ages] = random_ages\n",
      "/tmp/ipykernel_917/275173478.py:12: SettingWithCopyWarning: \n",
      "A value is trying to be set on a copy of a slice from a DataFrame\n",
      "\n",
      "See the caveats in the documentation: https://pandas.pydata.org/pandas-docs/stable/user_guide/indexing.html#returning-a-view-versus-a-copy\n",
      "  df.Age[null_ages] = random_ages\n"
     ]
    }
   ],
   "source": [
    "df = pd.read_csv(\"train.csv\")\n",
    "train, labels = preprocess_df(df)\n",
    "\n",
    "print(train.head(), labels.head())"
   ]
  },
  {
   "cell_type": "code",
   "execution_count": 146,
   "metadata": {},
   "outputs": [],
   "source": [
    "def build_model():\n",
    "    model = keras.Sequential([\n",
    "        layers.Dense(16, activation=\"relu\"),\n",
    "        layers.Dense(16, activation=\"relu\"),\n",
    "        layers.Dense(1, activation=\"sigmoid\")\n",
    "    ])\n",
    "\n",
    "    model.compile(\n",
    "        optimizer=keras.optimizers.RMSprop(0.01),\n",
    "        loss=\"binary_crossentropy\",\n",
    "        metrics=[\"accuracy\"]\n",
    "    )\n",
    "    return model"
   ]
  },
  {
   "cell_type": "code",
   "execution_count": 147,
   "metadata": {},
   "outputs": [
    {
     "name": "stdout",
     "output_type": "stream",
     "text": [
      "Processing fold #0\n",
      "Processing fold #1\n",
      "Processing fold #2\n",
      "Processing fold #3\n",
      "Processing fold #4\n"
     ]
    }
   ],
   "source": [
    "# Implement k-fold validation\n",
    "k = 5\n",
    "num_val_samples = len(train) // k\n",
    "num_epochs = 16\n",
    "all_histories = []\n",
    "for i in range(k):\n",
    "    print(f\"Processing fold #{i}\")\n",
    "    \n",
    "    val_data = train[i * num_val_samples: (i + 1) * num_val_samples]\n",
    "    val_labels = labels[i * num_val_samples: (i + 1) * num_val_samples]\n",
    "    \n",
    "    partial_train_data = np.concatenate(\n",
    "        [train[:i * num_val_samples],\n",
    "         train[(i + 1) * num_val_samples:]],\n",
    "        axis=0\n",
    "    )\n",
    "    \n",
    "    partial_train_labels = np.concatenate(\n",
    "        [labels[:i * num_val_samples],\n",
    "         labels[(i + 1) * num_val_samples:]],\n",
    "        axis=0\n",
    "    )\n",
    "    \n",
    "    model = build_model()\n",
    "    \n",
    "    history = model.fit(\n",
    "        partial_train_data,\n",
    "        partial_train_labels,\n",
    "        epochs=num_epochs,\n",
    "        validation_data=(val_data, val_labels),\n",
    "        verbose=0\n",
    "    )\n",
    "    \n",
    "    all_histories.append(history)"
   ]
  },
  {
   "cell_type": "code",
   "execution_count": 148,
   "metadata": {},
   "outputs": [],
   "source": [
    "# Average the training and validation accuracy for each epoch across the folds\n",
    "avg_val_accuracy = np.empty((k,num_epochs))\n",
    "avg_train_accuracy = np.empty((k,num_epochs))\n",
    "for i in range(k):\n",
    "    avg_val_accuracy[i,:] = all_histories[i].history[\"val_accuracy\"]\n",
    "    avg_train_accuracy[i,:] = all_histories[i].history[\"accuracy\"]\n",
    "avg_val_accuracy = avg_val_accuracy.mean(axis=0)\n",
    "avg_train_accuracy = avg_train_accuracy.mean(axis=0)"
   ]
  },
  {
   "cell_type": "code",
   "execution_count": 149,
   "metadata": {},
   "outputs": [
    {
     "data": {
      "image/png": "[encoded data removed]",
      "text/plain": [
       "<Figure size 640x480 with 1 Axes>"
      ]
     },
     "metadata": {},
     "output_type": "display_data"
    }
   ],
   "source": [
    "cut = 1\n",
    "epochs = range(cut+1, num_epochs + 1)\n",
    "plt.plot(epochs, avg_train_accuracy[cut:], \"bo\", label=\"Training acc\")\n",
    "plt.plot(epochs, avg_val_accuracy[cut:], \"b\", label=\"Validation acc\")\n",
    "plt.axvline(15)\n",
    "plt.title(\"Training and validation accuracy\")\n",
    "plt.xlabel(\"Epochs\")\n",
    "plt.ylabel(\"Accuracy\")\n",
    "plt.legend()\n",
    "plt.show()"
   ]
  },
  {
   "cell_type": "code",
   "execution_count": 150,
   "metadata": {},
   "outputs": [
    {
     "name": "stderr",
     "output_type": "stream",
     "text": [
      "/tmp/ipykernel_917/275173478.py:12: FutureWarning: ChainedAssignmentError: behaviour will change in pandas 3.0!\n",
      "You are setting values through chained assignment. Currently this works in certain cases, but when using Copy-on-Write (which will become the default behaviour in pandas 3.0) this will never work to update the original DataFrame or Series, because the intermediate object on which we are setting values will behave as a copy.\n",
      "A typical example is when you are setting values in a column of a DataFrame, like:\n",
      "\n",
      "df[\"col\"][row_indexer] = value\n",
      "\n",
      "Use `df.loc[row_indexer, \"col\"] = values` instead, to perform the assignment in a single step and ensure this keeps updating the original `df`.\n",
      "\n",
      "See the caveats in the documentation: https://pandas.pydata.org/pandas-docs/stable/user_guide/indexing.html#returning-a-view-versus-a-copy\n",
      "\n",
      "  df.Age[null_ages] = random_ages\n",
      "/tmp/ipykernel_917/275173478.py:12: SettingWithCopyWarning: \n",
      "A value is trying to be set on a copy of a slice from a DataFrame\n",
      "\n",
      "See the caveats in the documentation: https://pandas.pydata.org/pandas-docs/stable/user_guide/indexing.html#returning-a-view-versus-a-copy\n",
      "  df.Age[null_ages] = random_ages\n"
     ]
    }
   ],
   "source": [
    "test = pd.read_csv(\"test.csv\")\n",
    "PassengerId = test[\"PassengerId\"].values\n",
    "test = preprocess_df(test)"
   ]
  },
  {
   "cell_type": "code",
   "execution_count": 151,
   "metadata": {},
   "outputs": [
    {
     "name": "stdout",
     "output_type": "stream",
     "text": [
      "\u001b[1m14/14\u001b[0m \u001b[32m━━━━━━━━━━━━━━━━━━━━\u001b[0m\u001b[37m\u001b[0m \u001b[1m0s\u001b[0m 16ms/step\n"
     ]
    },
    {
     "data": {
      "text/html": [
       "<div>\n",
       "<style scoped>\n",
       "    .dataframe tbody tr th:only-of-type {\n",
       "        vertical-align: middle;\n",
       "    }\n",
       "\n",
       "    .dataframe tbody tr th {\n",
       "        vertical-align: top;\n",
       "    }\n",
       "\n",
       "    .dataframe thead th {\n",
       "        text-align: right;\n",
       "    }\n",
       "</style>\n",
       "<table border=\"1\" class=\"dataframe\">\n",
       "  <thead>\n",
       "    <tr style=\"text-align: right;\">\n",
       "      <th></th>\n",
       "      <th>PassengerId</th>\n",
       "      <th>Survived</th>\n",
       "    </tr>\n",
       "  </thead>\n",
       "  <tbody>\n",
       "    <tr>\n",
       "      <th>413</th>\n",
       "      <td>1305</td>\n",
       "      <td>0</td>\n",
       "    </tr>\n",
       "    <tr>\n",
       "      <th>414</th>\n",
       "      <td>1306</td>\n",
       "      <td>1</td>\n",
       "    </tr>\n",
       "    <tr>\n",
       "      <th>415</th>\n",
       "      <td>1307</td>\n",
       "      <td>0</td>\n",
       "    </tr>\n",
       "    <tr>\n",
       "      <th>416</th>\n",
       "      <td>1308</td>\n",
       "      <td>0</td>\n",
       "    </tr>\n",
       "    <tr>\n",
       "      <th>417</th>\n",
       "      <td>1309</td>\n",
       "      <td>0</td>\n",
       "    </tr>\n",
       "  </tbody>\n",
       "</table>\n",
       "</div>"
      ],
      "text/plain": [
       "     PassengerId  Survived\n",
       "413         1305         0\n",
       "414         1306         1\n",
       "415         1307         0\n",
       "416         1308         0\n",
       "417         1309         0"
      ]
     },
     "execution_count": 151,
     "metadata": {},
     "output_type": "execute_result"
    }
   ],
   "source": [
    "predictions = model.predict(test)\n",
    "\n",
    "# Convert all predictions to 0 or 1\n",
    "for i in range(len(predictions)):\n",
    "    if predictions[i] < 0.5:\n",
    "        predictions[i] = 0\n",
    "    else:\n",
    "        predictions[i] = 1\n",
    "\n",
    "predictions = predictions.astype(int) # The submission format requires integers.\n",
    "predictions = predictions.flatten() # This turns predictions into a 1D array that can be put into a dataframe.\n",
    "        \n",
    "data = {'PassengerId': PassengerId,\n",
    "        'Survived': predictions}\n",
    "\n",
    "prediction_df = pd.DataFrame(data)\n",
    "prediction_df.tail()"
   ]
  },
  {
   "cell_type": "code",
   "execution_count": 152,
   "metadata": {},
   "outputs": [],
   "source": [
    "prediction_df.to_csv(\"predictions.csv\", index=False)"
   ]
  }
 ],
 "metadata": {
  "kernelspec": {
   "display_name": ".venv",
   "language": "python",
   "name": "python3"
  },
  "language_info": {
   "codemirror_mode": {
    "name": "ipython",
    "version": 3
   },
   "file_extension": ".py",
   "mimetype": "text/x-python",
   "name": "python",
   "nbconvert_exporter": "python",
   "pygments_lexer": "ipython3",
   "version": "3.12.3"
  }
 },
 "nbformat": 4,
 "nbformat_minor": 2
}
